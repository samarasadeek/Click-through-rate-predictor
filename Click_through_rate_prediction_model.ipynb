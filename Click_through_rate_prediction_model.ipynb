{
 "cells": [
  {
   "cell_type": "markdown",
   "id": "020cf19e-6668-436e-98ed-a375517a5ac8",
   "metadata": {},
   "source": [
    "**Goal**\n",
    "<br> Produce prediction model with the aim of correctly predicting whether or not an ad would have a high click through rate (CTR). A high CTR was defined here as >= 0.08 %. A bid multiplier is then assigned based on whether or not an ad is predicted to have a high CTR.\n",
    "<br>\n",
    "\n",
    "**Classifier**\n",
    "<br> This notebook generates a binary classifier, which, for a given set of features, predicts whether an ad would have a high CTR or a low CTR. \n",
    "  - Labels: \n",
    "      - High CTR (i.e. >= 0.08 %): class 1\n",
    "      - Low CTR (i.e < 0.08 %): class 0\n",
    "  - Features:\n",
    "      - Device type\n",
    "      - Time of day (i.e. hour)\n",
    "      - Day of week\n",
    "\n",
    "**Evaluation metric** \n",
    "<br> The dataset was highly imbalanced with the majority (ca. over 90%) of the observations being in the low CTR class. Correctly predicting that an ad would have a high CTR is more valuable than correctly predicting an ad would have a low CTR. In other words, the cost associated with a false negative is greater than the cost associated with a false positive. \n",
    "$$C_{FN} >>  C_{FP}$$\n",
    "<br> Accordingly, accuracy was not a useful metric, but instead  Recall of the high CTR class was the key metric which the classifier was evaluated on. It should be stated that a high Recall (80 %), came at the expense of a low precision (41 %). \n",
    "\n",
    "$$Recall = \\frac{TP}{TP + FN}$$   \n",
    "$$Precision = \\frac{TP}{TP + FP}$$\n",
    "\n",
    "**Cost-sensitive learning**\n",
    "<br> A weighted RandomForest was used due to its ease of implementation and since promising results of such prediction models for rare event detection have been demonstrated [here](https://www.sciencedirect.com/science/article/pii/S235291482100174X#bib40). To produce the weightings, a cost-sensitive learning approach was taken. This strategy ensures that the classifier does not consider all errors to be equal. For this classifier, different costs were assigned to false negative and false positive events, which were used to produce a cost factor. The cost factor was then used along with the number of observations in both classes to estimate class weightings to be assigned to the classifier. The methodology followed was taken from [here](https://link.springer.com/article/10.1007/s10994-016-5572-x#citeas) (equation 2). Other classifiers should be attempted which employs the cost-sensitive learning e.g. calibrated AdaBoost.\n",
    "\n",
    "**Results**\n",
    "- High CTR class: Recall ca. 80%, Precision: 40%\n",
    "- Low CTR class: Recall ca. 59%, Precision: 91%\n",
    "- Feature importance order: \n",
    "    - Device type \n",
    "    - Time of day\n",
    "    - Day of week\n",
    "---"
   ]
  },
  {
   "cell_type": "markdown",
   "id": "b59356c6-cf69-4341-b0b3-ce3877b62703",
   "metadata": {},
   "source": [
    "### Contents:\n",
    "1. Import packages and data\n",
    "2. Functions:\n",
    "    - Filter data by impression threshold\n",
    "    - Prepare features and label data\n",
    "    - Build ML pipeline\n",
    "    - Evaluate model \n",
    "    - Save model\n",
    "    - Predict CTR for a dataframe of features and produce bid multiplier \n",
    "3. Train, evaluate and save classifier\n",
    "4. Demonstrate use of classifier\n",
    "   \n",
    "---"
   ]
  },
  {
   "cell_type": "markdown",
   "id": "cacca51f-7e11-4057-8987-05d3f9322c82",
   "metadata": {},
   "source": [
    "### 1. Import packages and data"
   ]
  },
  {
   "cell_type": "code",
   "execution_count": 1,
   "id": "e6fa94ed-0ff8-4a0c-9ac1-9a1ddc3bc806",
   "metadata": {},
   "outputs": [],
   "source": [
    "# importing necessary libraries\n",
    "import pandas as pd\n",
    "import numpy as np\n",
    "\n",
    "import matplotlib.pyplot as plt\n",
    "%matplotlib inline\n",
    "import seaborn as sns\n",
    "\n",
    "from sklearn.ensemble import RandomForestClassifier\n",
    "from sklearn.model_selection import train_test_split\n",
    "from sklearn.preprocessing import OneHotEncoder\n",
    "from sklearn.compose import ColumnTransformer\n",
    "from sklearn.inspection import permutation_importance\n",
    "from sklearn.metrics import accuracy_score, confusion_matrix, plot_confusion_matrix\n",
    "from imblearn.over_sampling import SMOTE\n",
    "from imblearn.pipeline import Pipeline\n",
    "from imblearn.metrics import classification_report_imbalanced\n",
    "from imblearn.under_sampling import RandomUnderSampler\n",
    "\n",
    "from datetime import datetime\n",
    "import pickle"
   ]
  },
  {
   "cell_type": "code",
   "execution_count": 2,
   "id": "12fdd5f2-55ae-4b99-ba5a-25cf26b614e4",
   "metadata": {},
   "outputs": [
    {
     "name": "stderr",
     "output_type": "stream",
     "text": [
      "/home/samara_s/anaconda3/lib/python3.9/site-packages/IPython/core/interactiveshell.py:3444: DtypeWarning: Columns (10) have mixed types.Specify dtype option on import or set low_memory=False.\n",
      "  exec(code_obj, self.user_global_ns, self.user_ns)\n"
     ]
    }
   ],
   "source": [
    "data = pd.read_csv('../../../../data/data_16_03_22/test_param_performance_formatted.csv')"
   ]
  },
  {
   "cell_type": "markdown",
   "id": "c50cfbb5-f4f5-43cb-a5e0-cae851ee0582",
   "metadata": {},
   "source": [
    "---"
   ]
  },
  {
   "cell_type": "markdown",
   "id": "ee5b2079-46b5-4609-a25f-ecb3bfa223d5",
   "metadata": {},
   "source": [
    "### 2. Functions"
   ]
  },
  {
   "cell_type": "code",
   "execution_count": 3,
   "id": "00934d07-822d-4d2d-82ea-c098ec45ed1b",
   "metadata": {},
   "outputs": [],
   "source": [
    "def cat_ctr(ctr):\n",
    "    '''\n",
    "    For a given ctr, return ctr class based on a set of conditional statements.\n",
    "    Low CTR : < 0.08 %\n",
    "    High CTR: >= 0.08 %\n",
    "    '''\n",
    "    if ctr < 0.08/100:\n",
    "        return 0\n",
    "    else:\n",
    "        return 1\n",
    "    \n",
    "def clean_data(df):\n",
    "    '''\n",
    "    Filter dataset to include only observations with impressions >= 1000.\n",
    "    Add a CTR class column which is based on the CTR column.\n",
    "    Return dataframe with only the device type, day of week, time of \n",
    "    day features and CTR class.\n",
    "    '''\n",
    "    \n",
    "    df_subset = df[['device_type','weekday_user_tz','hour_user_tz','ctr', 'impressions']]\n",
    "    \n",
    "    df_1000 = df_subset.loc[df_subset['impressions'] >= 1000]\n",
    "\n",
    "    df_1000['ctr_class'] = df_1000['ctr'].apply(lambda x:cat_ctr(x))\n",
    "    \n",
    "    df_1000.drop(['ctr','impressions'],axis=1, inplace=True)\n",
    "    \n",
    "    return df_1000"
   ]
  },
  {
   "cell_type": "code",
   "execution_count": 4,
   "id": "f9a546c9-8bd1-4297-bfb1-69acbfd76287",
   "metadata": {},
   "outputs": [],
   "source": [
    "def prepare_data(data):\n",
    "    '''\n",
    "    Clean data and keep the features to be used in the classifier.\n",
    "    '''\n",
    "    \n",
    "    df = clean_data(data)\n",
    "    \n",
    "    X = df.drop('ctr_class', axis=1)\n",
    "    \n",
    "    y = df['ctr_class'] \n",
    "        \n",
    "    return X, y"
   ]
  },
  {
   "cell_type": "code",
   "execution_count": 5,
   "id": "4480566d-ce83-4e5c-8140-4053ffdb1bca",
   "metadata": {},
   "outputs": [],
   "source": [
    "def build_model():\n",
    "    '''\n",
    "    Data preparation and ML pipeline that onehotencodes all features (categorical), \n",
    "    and over samples minority class, undersample samples majority class to reduce class imbalance. \n",
    "    RandomForestClassifier parameters were tuned (not included in this notebook) and the prescribed \n",
    "    class_weights chosen increased the classifiers ability to correctly detect if a collection of \n",
    "    features would result in a high CTR ad. \n",
    "    '''\n",
    "    # intantiate OHE\n",
    "    categorical_encoder = OneHotEncoder(handle_unknown='ignore')\n",
    "    \n",
    "    # List categorical variables in to be OHE\n",
    "    categorical_columns = ['device_type','weekday_user_tz','hour_user_tz']\n",
    "\n",
    "    preprocessing = ColumnTransformer(\n",
    "        [\n",
    "            ('cat', categorical_encoder, categorical_columns),\n",
    "        ]\n",
    "    )\n",
    "\n",
    "    # intantiate minority class oversampler\n",
    "    smt = SMOTE()\n",
    "    \n",
    "    # intantiate majority class undersampler\n",
    "    und = RandomUnderSampler()\n",
    "\n",
    "    # create pipeline\n",
    "    model = Pipeline(\n",
    "        [\n",
    "            ('preprocess', preprocessing),\n",
    "            ('oversample', smt),\n",
    "            ('undersample', und),\n",
    "            ('classifier', RandomForestClassifier(criterion='gini', class_weight={0: 0.37, 1: 0.63}, n_estimators=52, max_features='sqrt'))\n",
    "        ]\n",
    "    )\n",
    "\n",
    "    return model, categorical_columns"
   ]
  },
  {
   "cell_type": "code",
   "execution_count": 6,
   "id": "6ef6f5d9-1b6e-42ff-8c4c-cf0393498c1a",
   "metadata": {},
   "outputs": [],
   "source": [
    "def evaluate_model(model, X_test, y_test):\n",
    "    '''\n",
    "    Use classifier to predict CTR class of test data and evaluate model\n",
    "    performance based on recall of CTR class 1. Produce classification \n",
    "    report (precision and recall for both classes) and confusion matrix. \n",
    "    '''\n",
    "\n",
    "    y_pred = model.predict(X_test)\n",
    "    \n",
    "    target_names = ['Low_CTR:0', 'High_CTR: 1']\n",
    "    \n",
    "    accuracy = accuracy_score(y_test, y_pred)\n",
    "    \n",
    "    report = classification_report_imbalanced(y_test, y_pred, target_names=target_names)\n",
    "\n",
    "    print('% Accuracy = {:.2f}'.format(100*accuracy_score(y_test, y_pred)))\n",
    "    \n",
    "    print(classification_report_imbalanced(y_test, y_pred, target_names=target_names))\n",
    "    \n",
    "    plot_confusion_matrix(model, X_test, y_test)\n",
    "    \n",
    "    plt.savefig('conf_mat.png')\n",
    "    \n",
    "    return accuracy, report"
   ]
  },
  {
   "cell_type": "code",
   "execution_count": 7,
   "id": "2cf30ef2-1564-46a6-a303-a9e5ebeeefac",
   "metadata": {},
   "outputs": [],
   "source": [
    "def plot_performance(model, categorical_columns, X_test, y_test):\n",
    "    '''\n",
    "    Plot feature importances and permutation importances.\n",
    "    '''\n",
    "    \n",
    "    ohe = model.named_steps['preprocess'].named_transformers_['cat']\n",
    "    \n",
    "    feature_names = ohe.get_feature_names_out(categorical_columns)\n",
    "    \n",
    "    tree_feature_importances = model.named_steps['classifier'].feature_importances_\n",
    "\n",
    "    sorted_idx = tree_feature_importances.argsort()\n",
    "    \n",
    "    y_ticks = np.arange(0, len(feature_names))\n",
    "    \n",
    "    # Plot feature importance\n",
    "    sns.set_style('darkgrid')\n",
    "    fig, ax = plt.subplots(figsize=(8,10))\n",
    "    ax.barh(y_ticks, tree_feature_importances[sorted_idx])\n",
    "    ax.set_yticks(y_ticks)\n",
    "    ax.set_yticklabels(feature_names[sorted_idx], color='black', fontsize=12)\n",
    "    ax.set_title('RandomForest feature importances', color='black', fontsize=12)\n",
    "    plt.xticks(color='black', fontsize=12)\n",
    "    fig.tight_layout()\n",
    "    plt.show()\n",
    "    \n",
    "    result = permutation_importance(model, X_test, y_test, n_repeats=30, random_state=42, n_jobs=2)\n",
    "    sorted_idx = result.importances_mean.argsort()\n",
    "\n",
    "    # Plot permutation importance\n",
    "    sns.set_style('darkgrid')\n",
    "    fig, ax = plt.subplots(figsize=(5,4))\n",
    "    ax.boxplot(result.importances[sorted_idx].T, vert=True, labels=X_test.columns[sorted_idx], patch_artist=True)\n",
    "    #ax.set_ylabel('Relative feature importance', color='black', fontsize=12)\n",
    "    ax.set_ylabel('Permutation feature importance', color='black', fontsize=12)\n",
    "    plt.xticks(color='black', fontsize=12)\n",
    "    ax.set_xticklabels(['Day', 'Hour', 'Device type'], color='black', fontsize=12)\n",
    "    plt.yticks(color='black', fontsize=12)\n",
    "    fig.tight_layout()\n",
    "    plt.show()\n",
    "  "
   ]
  },
  {
   "cell_type": "code",
   "execution_count": 8,
   "id": "d8f6cc53-03d8-490d-a1f5-a85240660baa",
   "metadata": {},
   "outputs": [],
   "source": [
    "def save_model(model, model_filepath):\n",
    "    '''\n",
    "    Export model as a pickle file.\n",
    "    '''\n",
    "    \n",
    "    filename = model_filepath\n",
    "    with open(filename, 'wb') as f:\n",
    "        pickle.dump(model, f)        "
   ]
  },
  {
   "cell_type": "code",
   "execution_count": 9,
   "id": "bbca4815-7cd2-4bbe-9f37-cb5469532142",
   "metadata": {},
   "outputs": [],
   "source": [
    "def gen_bid_multiplier(pred, upper, lower):\n",
    "    '''\n",
    "    Set bid multipliers based on predicted CTR class.\n",
    "    - Class 0 = below target, therefore down-weight bid\n",
    "    - Class 1 = above target, therefore up-weight bid\n",
    "    '''\n",
    "    if pred == 0:    \n",
    "        return lower\n",
    "    else:\n",
    "        return upper\n",
    "    \n",
    "def ctr_class_pred(df, model_filepath, csv_filepath):\n",
    "    '''\n",
    "    Import trained classifier (model). \n",
    "    Use model to onehotencode device_type, day of week and hour features,\n",
    "    and make prediction of CTR class for each feature set. Add column with \n",
    "    CTR class based on device_type, day of week and hour and add another \n",
    "    column with bid multiplier depeneding on the ctr_class prediction, if\n",
    "    class predicted to be high CTR (1), then bid multiplier should be set\n",
    "    such that the bid if up-weighted and if class predicted to be low CTR (0),\n",
    "    then bid multiplier should be < 1, so bid would be down-weighted.\n",
    "    Save dataframe with added ctr_class prediction and bid multiplier column \n",
    "    to csv.\n",
    "    '''\n",
    "    # Load trained model\n",
    "    model = pd.read_pickle(model_filepath)\n",
    "    \n",
    "    # Use trained model to predict CTR class\n",
    "    df['predicted_ctr_class'] = model.predict(df)\n",
    "    \n",
    "    # Based on CTR class, generate bid multiplier \n",
    "    df['bid_multiplier'] = df['predicted_ctr_class'].apply(lambda x:gen_bid_multiplier(x, 1.1, 0.9))\n",
    "    \n",
    "    # Save dataframe with predicted CTR class recommeneded bid multiplier as a CSV \n",
    "    df.to_csv(csv_filepath)\n",
    "    \n",
    "    return df "
   ]
  },
  {
   "cell_type": "markdown",
   "id": "6de20df6-d60c-4f28-9168-fea390b641a3",
   "metadata": {},
   "source": [
    "## Train, evaluate and save trained classifier\n",
    "---"
   ]
  },
  {
   "cell_type": "code",
   "execution_count": 10,
   "id": "44a33cdd-d723-49e8-9f70-36ee1a63334c",
   "metadata": {},
   "outputs": [
    {
     "name": "stderr",
     "output_type": "stream",
     "text": [
      "/tmp/ipykernel_22724/3022735118.py:24: SettingWithCopyWarning: \n",
      "A value is trying to be set on a copy of a slice from a DataFrame.\n",
      "Try using .loc[row_indexer,col_indexer] = value instead\n",
      "\n",
      "See the caveats in the documentation: https://pandas.pydata.org/pandas-docs/stable/user_guide/indexing.html#returning-a-view-versus-a-copy\n",
      "  df_1000['ctr_class'] = df_1000['ctr'].apply(lambda x:cat_ctr(x))\n",
      "/home/samara_s/anaconda3/lib/python3.9/site-packages/pandas/core/frame.py:4906: SettingWithCopyWarning: \n",
      "A value is trying to be set on a copy of a slice from a DataFrame\n",
      "\n",
      "See the caveats in the documentation: https://pandas.pydata.org/pandas-docs/stable/user_guide/indexing.html#returning-a-view-versus-a-copy\n",
      "  return super().drop(\n"
     ]
    }
   ],
   "source": [
    "# Prepare data using prepare_data function\n",
    "X, y = prepare_data(data);\n",
    "\n",
    "# Split data into train and test sets, use stratify parameter to ensure train and test sets include \n",
    "# both minority and majority classes are included in the both datasets.\n",
    "X_train, X_test, y_train, y_test = train_test_split(X, y, test_size=0.2, random_state=42, stratify=y);\n",
    "\n",
    "# Train classifier on train data using pipeline created in build_model function\n",
    "model, categorical_columns = build_model();\n",
    "model.fit(X_train, y_train);"
   ]
  },
  {
   "cell_type": "code",
   "execution_count": 11,
   "id": "4c5cc07d-bf81-4d89-8c98-514c06fae44e",
   "metadata": {},
   "outputs": [
    {
     "name": "stdout",
     "output_type": "stream",
     "text": [
      "% Accuracy = 62.89\n",
      "                   pre       rec       spe        f1       geo       iba       sup\n",
      "\n",
      "  Low_CTR:0       0.90      0.57      0.82      0.70      0.68      0.45      7695\n",
      "High_CTR: 1       0.39      0.82      0.57      0.53      0.68      0.47      2584\n",
      "\n",
      "avg / total       0.77      0.63      0.75      0.65      0.68      0.46     10279\n",
      "\n"
     ]
    },
    {
     "name": "stderr",
     "output_type": "stream",
     "text": [
      "/home/samara_s/anaconda3/lib/python3.9/site-packages/sklearn/utils/deprecation.py:87: FutureWarning: Function plot_confusion_matrix is deprecated; Function `plot_confusion_matrix` is deprecated in 1.0 and will be removed in 1.2. Use one of the class methods: ConfusionMatrixDisplay.from_predictions or ConfusionMatrixDisplay.from_estimator.\n",
      "  warnings.warn(msg, category=FutureWarning)\n"
     ]
    },
    {
     "data": {
      "image/png": "[encoded data removed]",
      "text/plain": [
       "<Figure size 432x288 with 2 Axes>"
      ]
     },
     "metadata": {
      "needs_background": "light"
     },
     "output_type": "display_data"
    },
    {
     "data": {
      "image/png": "[encoded data removed]",
      "text/plain": [
       "<Figure size 576x720 with 1 Axes>"
      ]
     },
     "metadata": {},
     "output_type": "display_data"
    },
    {
     "data": {
      "image/png": "[encoded data removed]",
      "text/plain": [
       "<Figure size 360x288 with 1 Axes>"
      ]
     },
     "metadata": {},
     "output_type": "display_data"
    }
   ],
   "source": [
    "# Print accuracy score, cclassification report, confusion matrix \n",
    "accuracy, report = evaluate_model(model, X_test, y_test)\n",
    "\n",
    "# Produce feature importance and permutation importance plots\n",
    "plot_performance(model, categorical_columns, X_test, y_test)\n",
    "\n",
    "# Save trained classifier as a pickle file\n",
    "save_model(model, '../../../../data/results/classifier_weightedRF.pkl')"
   ]
  },
  {
   "cell_type": "markdown",
   "id": "aecb2b10-ed90-4a6e-bc74-dd68f6b0c03c",
   "metadata": {},
   "source": [
    "---"
   ]
  },
  {
   "cell_type": "markdown",
   "id": "e42a2d0c-cf47-4354-bf02-3d84be0d6319",
   "metadata": {},
   "source": [
    "## Demonstrate use of trained classifier\n"
   ]
  },
  {
   "cell_type": "code",
   "execution_count": 12,
   "id": "0bfe62ab-e36a-45d0-aad9-0db5e6ec7bf4",
   "metadata": {},
   "outputs": [],
   "source": [
    "# Select a sample of the dataset provided keeping only the device_type, day and hour features\n",
    "test = data[['device_type','weekday_user_tz','hour_user_tz']].sample(1000)\n",
    "\n",
    "# Use classifier to predict CTR class and produce bid multiplier\n",
    "df = ctr_class_pred(test, model_filepath='../../../../data/results/classifier_weightedRF.pkl', csv_filepath='../../../../data/results/example_prediction_model_output.csv')"
   ]
  },
  {
   "cell_type": "code",
   "execution_count": 13,
   "id": "02322490-9a37-4fde-ac25-72be75fbdc76",
   "metadata": {},
   "outputs": [
    {
     "data": {
      "text/html": [
       "<div>\n",
       "<style scoped>\n",
       "    .dataframe tbody tr th:only-of-type {\n",
       "        vertical-align: middle;\n",
       "    }\n",
       "\n",
       "    .dataframe tbody tr th {\n",
       "        vertical-align: top;\n",
       "    }\n",
       "\n",
       "    .dataframe thead th {\n",
       "        text-align: right;\n",
       "    }\n",
       "</style>\n",
       "<table border=\"1\" class=\"dataframe\">\n",
       "  <thead>\n",
       "    <tr style=\"text-align: right;\">\n",
       "      <th></th>\n",
       "      <th>device_type</th>\n",
       "      <th>weekday_user_tz</th>\n",
       "      <th>hour_user_tz</th>\n",
       "      <th>predicted_ctr_class</th>\n",
       "      <th>bid_multiplier</th>\n",
       "    </tr>\n",
       "  </thead>\n",
       "  <tbody>\n",
       "    <tr>\n",
       "      <th>121095</th>\n",
       "      <td>Mobile</td>\n",
       "      <td>2</td>\n",
       "      <td>9</td>\n",
       "      <td>1</td>\n",
       "      <td>1.1</td>\n",
       "    </tr>\n",
       "    <tr>\n",
       "      <th>1544934</th>\n",
       "      <td>Mobile</td>\n",
       "      <td>1</td>\n",
       "      <td>8</td>\n",
       "      <td>1</td>\n",
       "      <td>1.1</td>\n",
       "    </tr>\n",
       "    <tr>\n",
       "      <th>2490221</th>\n",
       "      <td>Mobile</td>\n",
       "      <td>5</td>\n",
       "      <td>19</td>\n",
       "      <td>1</td>\n",
       "      <td>1.1</td>\n",
       "    </tr>\n",
       "    <tr>\n",
       "      <th>3135793</th>\n",
       "      <td>PC</td>\n",
       "      <td>2</td>\n",
       "      <td>2</td>\n",
       "      <td>0</td>\n",
       "      <td>0.9</td>\n",
       "    </tr>\n",
       "    <tr>\n",
       "      <th>465425</th>\n",
       "      <td>Mobile</td>\n",
       "      <td>1</td>\n",
       "      <td>23</td>\n",
       "      <td>1</td>\n",
       "      <td>1.1</td>\n",
       "    </tr>\n",
       "    <tr>\n",
       "      <th>...</th>\n",
       "      <td>...</td>\n",
       "      <td>...</td>\n",
       "      <td>...</td>\n",
       "      <td>...</td>\n",
       "      <td>...</td>\n",
       "    </tr>\n",
       "    <tr>\n",
       "      <th>1443353</th>\n",
       "      <td>Mobile</td>\n",
       "      <td>2</td>\n",
       "      <td>17</td>\n",
       "      <td>1</td>\n",
       "      <td>1.1</td>\n",
       "    </tr>\n",
       "    <tr>\n",
       "      <th>3357167</th>\n",
       "      <td>Mobile</td>\n",
       "      <td>5</td>\n",
       "      <td>20</td>\n",
       "      <td>1</td>\n",
       "      <td>1.1</td>\n",
       "    </tr>\n",
       "    <tr>\n",
       "      <th>1597997</th>\n",
       "      <td>Mobile</td>\n",
       "      <td>0</td>\n",
       "      <td>2</td>\n",
       "      <td>1</td>\n",
       "      <td>1.1</td>\n",
       "    </tr>\n",
       "    <tr>\n",
       "      <th>2198471</th>\n",
       "      <td>PC</td>\n",
       "      <td>0</td>\n",
       "      <td>18</td>\n",
       "      <td>0</td>\n",
       "      <td>0.9</td>\n",
       "    </tr>\n",
       "    <tr>\n",
       "      <th>93484</th>\n",
       "      <td>PC</td>\n",
       "      <td>5</td>\n",
       "      <td>8</td>\n",
       "      <td>1</td>\n",
       "      <td>1.1</td>\n",
       "    </tr>\n",
       "  </tbody>\n",
       "</table>\n",
       "<p>1000 rows × 5 columns</p>\n",
       "</div>"
      ],
      "text/plain": [
       "        device_type  weekday_user_tz  hour_user_tz  predicted_ctr_class  \\\n",
       "121095       Mobile                2             9                    1   \n",
       "1544934      Mobile                1             8                    1   \n",
       "2490221      Mobile                5            19                    1   \n",
       "3135793          PC                2             2                    0   \n",
       "465425       Mobile                1            23                    1   \n",
       "...             ...              ...           ...                  ...   \n",
       "1443353      Mobile                2            17                    1   \n",
       "3357167      Mobile                5            20                    1   \n",
       "1597997      Mobile                0             2                    1   \n",
       "2198471          PC                0            18                    0   \n",
       "93484            PC                5             8                    1   \n",
       "\n",
       "         bid_multiplier  \n",
       "121095              1.1  \n",
       "1544934             1.1  \n",
       "2490221             1.1  \n",
       "3135793             0.9  \n",
       "465425              1.1  \n",
       "...                 ...  \n",
       "1443353             1.1  \n",
       "3357167             1.1  \n",
       "1597997             1.1  \n",
       "2198471             0.9  \n",
       "93484               1.1  \n",
       "\n",
       "[1000 rows x 5 columns]"
      ]
     },
     "execution_count": 13,
     "metadata": {},
     "output_type": "execute_result"
    }
   ],
   "source": [
    "# Preview CTR and bid multiplier\n",
    "df"
   ]
  }
 ],
 "metadata": {
  "kernelspec": {
   "display_name": "Python 3",
   "language": "python",
   "name": "python3"
  },
  "language_info": {
   "codemirror_mode": {
    "name": "ipython",
    "version": 3
   },
   "file_extension": ".py",
   "mimetype": "text/x-python",
   "name": "python",
   "nbconvert_exporter": "python",
   "pygments_lexer": "ipython3",
   "version": "3.7.11"
  }
 },
 "nbformat": 4,
 "nbformat_minor": 5
}
